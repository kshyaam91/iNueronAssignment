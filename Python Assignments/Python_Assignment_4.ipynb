{
 "cells": [
  {
   "cell_type": "markdown",
   "metadata": {},
   "source": [
    "### 1.1 Write a Python Program(with class concepts) to find the area of the triangle using the below  formula. \n",
    "\n",
    "### area = (s*(s-a)*(s-b)*(s-c)) ** 0.5\n",
    "\n",
    "### Function to take the length of the sides of triangle from user should be defined in the parent  class and function to calculate the area should be defined in subclass. "
   ]
  },
  {
   "cell_type": "code",
   "execution_count": 49,
   "metadata": {},
   "outputs": [
    {
     "name": "stdout",
     "output_type": "stream",
     "text": [
      "Enter the lenght of the first side:\t5\n",
      "Enter the lenght of the second side:\t6\n",
      "Enter the lenght of the third side:\t7\n",
      "The area of the given traingle is:\t 14.697\n"
     ]
    }
   ],
   "source": [
    "import math\n",
    "EXPONENT = 0.5\n",
    "\n",
    "a= float(input('Enter the lenght of the first side:\\t'))\n",
    "b= float(input('Enter the lenght of the second side:\\t'))\n",
    "c= float(input('Enter the lenght of the third side:\\t'))\n",
    "\n",
    "s = (a+b+c)*0.5\n",
    "\n",
    "square_area = s*(s-a)*(s-b)*(s-c)\n",
    "area = math.pow(square_area,0.5)\n",
    "\n",
    "print('The area of the given traingle is:\\t '+ str(round(area,3)))"
   ]
  },
  {
   "cell_type": "code",
   "execution_count": 45,
   "metadata": {},
   "outputs": [],
   "source": [
    "class triangle():\n",
    "    def __init__(self,a,b,c):\n",
    "        self.a = float(a)\n",
    "        self.b = float(b)\n",
    "        self.c = float(c)\n",
    "    \n",
    "    \n",
    "        \n",
    "class area(triangle):\n",
    "    def semi_perimeter(self):\n",
    "        s = (self.a + self.b + self.c)*0.5\n",
    "        return s\n",
    "    \n",
    "    def without_height(self):\n",
    "        s = (self.a + self.b + self.c)*0.5\n",
    "        #z = s*(s-a)\n",
    "        square_area = s*(s-self.a)*(s-self.b)*(s-self.c)\n",
    "        area = math.pow(square_area,0.5)\n",
    "        return area     "
   ]
  },
  {
   "cell_type": "code",
   "execution_count": 46,
   "metadata": {},
   "outputs": [],
   "source": [
    "t = area(5,6,7)"
   ]
  },
  {
   "cell_type": "code",
   "execution_count": 47,
   "metadata": {},
   "outputs": [
    {
     "data": {
      "text/plain": [
       "9.0"
      ]
     },
     "execution_count": 47,
     "metadata": {},
     "output_type": "execute_result"
    }
   ],
   "source": [
    "t.semi_perimeter()"
   ]
  },
  {
   "cell_type": "code",
   "execution_count": 48,
   "metadata": {},
   "outputs": [
    {
     "data": {
      "text/plain": [
       "14.696938456699069"
      ]
     },
     "execution_count": 48,
     "metadata": {},
     "output_type": "execute_result"
    }
   ],
   "source": [
    "t.without_height()"
   ]
  },
  {
   "cell_type": "markdown",
   "metadata": {},
   "source": [
    "### Write a function filter_long_words() that takes a list of words and an integer n and returns  the list of words that are longer than n. "
   ]
  },
  {
   "cell_type": "code",
   "execution_count": 8,
   "metadata": {},
   "outputs": [],
   "source": [
    "def filter_long_words(lsit,n):\n",
    "    result_lsit=[]\n",
    "    for word in lsit:\n",
    "        if len(word)>n:\n",
    "            result_lsit.append(word)\n",
    "    return result_lsit"
   ]
  },
  {
   "cell_type": "code",
   "execution_count": 11,
   "metadata": {},
   "outputs": [
    {
     "name": "stdout",
     "output_type": "stream",
     "text": [
      "Please enter the number:\t7\n"
     ]
    },
    {
     "data": {
      "text/plain": [
       "['sfdgadfad', 'kyuloiofh', 'etyetygfh']"
      ]
     },
     "execution_count": 11,
     "metadata": {},
     "output_type": "execute_result"
    }
   ],
   "source": [
    "n = int(input('Please enter the number:\\t'))\n",
    "lsit = ['a','sdgf','sfdgadfad','asdfas','asdasd','asfrhfh','kyuloiofh','etyetygfh']\n",
    "\n",
    "filter_long_words(lsit,n)"
   ]
  },
  {
   "cell_type": "markdown",
   "metadata": {},
   "source": [
    "### 2.1 Write a Python program using function concept that maps list of words into a list of integers  representing the lengths of the corresponding words."
   ]
  },
  {
   "cell_type": "code",
   "execution_count": 12,
   "metadata": {},
   "outputs": [],
   "source": [
    "def length_word(lsit):\n",
    "    result_lsit=[]\n",
    "    for word in lsit:\n",
    "        result_lsit.append(len(word))\n",
    "    return result_lsit"
   ]
  },
  {
   "cell_type": "code",
   "execution_count": 13,
   "metadata": {},
   "outputs": [
    {
     "data": {
      "text/plain": [
       "[1, 4, 9, 6, 6, 7, 9, 9]"
      ]
     },
     "execution_count": 13,
     "metadata": {},
     "output_type": "execute_result"
    }
   ],
   "source": [
    "lsit = ['a','sdgf','sfdgadfad','asdfas','asdasd','asfrhfh','kyuloiofh','etyetygfh']\n",
    "length_word(lsit)"
   ]
  },
  {
   "cell_type": "markdown",
   "metadata": {},
   "source": [
    "### 2.2 Write a Python function which takes a character (i.e. a string of length 1) and returns True if  it is a vowel, False otherwise."
   ]
  },
  {
   "cell_type": "code",
   "execution_count": 18,
   "metadata": {},
   "outputs": [],
   "source": [
    "def vowel_check(c):\n",
    "    vowel=['a','e','i','o','u']\n",
    "    if len(c)==1:\n",
    "        if c in vowel:\n",
    "            return True\n",
    "        else:\n",
    "            return False\n",
    "    else:\n",
    "        return False"
   ]
  },
  {
   "cell_type": "code",
   "execution_count": 19,
   "metadata": {},
   "outputs": [
    {
     "data": {
      "text/plain": [
       "False"
      ]
     },
     "execution_count": 19,
     "metadata": {},
     "output_type": "execute_result"
    }
   ],
   "source": [
    "vowel_check('f')"
   ]
  }
 ],
 "metadata": {
  "kernelspec": {
   "display_name": "Python 3",
   "language": "python",
   "name": "python3"
  },
  "language_info": {
   "codemirror_mode": {
    "name": "ipython",
    "version": 3
   },
   "file_extension": ".py",
   "mimetype": "text/x-python",
   "name": "python",
   "nbconvert_exporter": "python",
   "pygments_lexer": "ipython3",
   "version": "3.7.7"
  }
 },
 "nbformat": 4,
 "nbformat_minor": 4
}
